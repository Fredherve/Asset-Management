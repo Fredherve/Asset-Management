{
 "cells": [
  {
   "cell_type": "code",
   "execution_count": 1,
   "id": "e71a5237-f5d6-437f-b740-b0eead364cda",
   "metadata": {},
   "outputs": [],
   "source": [
    "from heston import call_price"
   ]
  },
  {
   "cell_type": "code",
   "execution_count": 4,
   "id": "f76eb859-bfda-4298-b5b3-db3cb08bab98",
   "metadata": {},
   "outputs": [
    {
     "name": "stdout",
     "output_type": "stream",
     "text": [
      "Call option price: 2.6070115200024446\n"
     ]
    }
   ],
   "source": [
    "# Parameters\n",
    "stock_price = 100  # Current stock price\n",
    "stock_vol = 0.04   # Volatility\n",
    "strike = 110       # Strike price\n",
    "maturity = 1       # Time to maturity (years)\n",
    "interest_rate = 0.05  # Risk-free rate\n",
    "kapa = 2.0\n",
    "beta = 0.04\n",
    "sigma = 0.3\n",
    "rho = 0.7\n",
    "t = 0  # Current time\n",
    "num_iter = 100  # Number of Monte Carlo iterations\n",
    "\n",
    "# Calculate call price\n",
    "price = call_price(stock_price, stock_vol, strike, maturity, interest_rate, kapa, beta, sigma, rho, t, num_iter)\n",
    "print(\"Call option price:\", price)\n"
   ]
  }
 ],
 "metadata": {
  "kernelspec": {
   "display_name": "Python 3 (ipykernel)",
   "language": "python",
   "name": "python3"
  },
  "language_info": {
   "codemirror_mode": {
    "name": "ipython",
    "version": 3
   },
   "file_extension": ".py",
   "mimetype": "text/x-python",
   "name": "python",
   "nbconvert_exporter": "python",
   "pygments_lexer": "ipython3",
   "version": "3.12.7"
  }
 },
 "nbformat": 4,
 "nbformat_minor": 5
}
