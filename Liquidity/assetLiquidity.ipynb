{
 "cells": [
  {
   "cell_type": "code",
   "execution_count": 1,
   "metadata": {},
   "outputs": [],
   "source": [
    "#%pip install yfinance"
   ]
  },
  {
   "cell_type": "code",
   "execution_count": 23,
   "metadata": {},
   "outputs": [],
   "source": [
    "import yfinance as yf\n",
    "from datetime import datetime, timedelta\n",
    "\n",
    "import pandas as pd\n",
    "import numpy as np\n",
    "\n",
    "from scipy.stats import norm"
   ]
  },
  {
   "cell_type": "code",
   "execution_count": null,
   "metadata": {},
   "outputs": [
    {
     "name": "stderr",
     "output_type": "stream",
     "text": [
      "[*********************100%***********************]  10 of 10 completed\n",
      "[*********************100%***********************]  1 of 1 completed\n"
     ]
    }
   ],
   "source": [
    "# Chargement de l'historique des actifs sur les deux dernières années\n",
    "end_date = datetime.now()\n",
    "strat_date = end_date - timedelta(days=2*365)\n",
    "tickers = ['SAN.PA', 'BN.PA',  'AIR.PA', 'AI.PA', 'ORA.PA', 'CAP.PA', 'VIV.PA', 'CA.PA', 'ENGI.PA', 'DG.PA']\n",
    "df = yf.download(tickers, start = strat_date, end=end_date)[['Close', 'Volume']]\n",
    "\n",
    "cac40 = yf.download('^FCHI', start = strat_date, end=end_date)[['Close', 'Volume']]"
   ]
  },
  {
   "cell_type": "code",
   "execution_count": 4,
   "metadata": {},
   "outputs": [
    {
     "data": {
      "text/html": [
       "<div>\n",
       "<style scoped>\n",
       "    .dataframe tbody tr th:only-of-type {\n",
       "        vertical-align: middle;\n",
       "    }\n",
       "\n",
       "    .dataframe tbody tr th {\n",
       "        vertical-align: top;\n",
       "    }\n",
       "\n",
       "    .dataframe thead tr th {\n",
       "        text-align: left;\n",
       "    }\n",
       "\n",
       "    .dataframe thead tr:last-of-type th {\n",
       "        text-align: right;\n",
       "    }\n",
       "</style>\n",
       "<table border=\"1\" class=\"dataframe\">\n",
       "  <thead>\n",
       "    <tr>\n",
       "      <th>Price</th>\n",
       "      <th colspan=\"10\" halign=\"left\">Close</th>\n",
       "      <th colspan=\"10\" halign=\"left\">Volume</th>\n",
       "    </tr>\n",
       "    <tr>\n",
       "      <th>Ticker</th>\n",
       "      <th>AI.PA</th>\n",
       "      <th>AIR.PA</th>\n",
       "      <th>BN.PA</th>\n",
       "      <th>CA.PA</th>\n",
       "      <th>CAP.PA</th>\n",
       "      <th>DG.PA</th>\n",
       "      <th>ENGI.PA</th>\n",
       "      <th>ORA.PA</th>\n",
       "      <th>SAN.PA</th>\n",
       "      <th>VIV.PA</th>\n",
       "      <th>AI.PA</th>\n",
       "      <th>AIR.PA</th>\n",
       "      <th>BN.PA</th>\n",
       "      <th>CA.PA</th>\n",
       "      <th>CAP.PA</th>\n",
       "      <th>DG.PA</th>\n",
       "      <th>ENGI.PA</th>\n",
       "      <th>ORA.PA</th>\n",
       "      <th>SAN.PA</th>\n",
       "      <th>VIV.PA</th>\n",
       "    </tr>\n",
       "    <tr>\n",
       "      <th>Date</th>\n",
       "      <th></th>\n",
       "      <th></th>\n",
       "      <th></th>\n",
       "      <th></th>\n",
       "      <th></th>\n",
       "      <th></th>\n",
       "      <th></th>\n",
       "      <th></th>\n",
       "      <th></th>\n",
       "      <th></th>\n",
       "      <th></th>\n",
       "      <th></th>\n",
       "      <th></th>\n",
       "      <th></th>\n",
       "      <th></th>\n",
       "      <th></th>\n",
       "      <th></th>\n",
       "      <th></th>\n",
       "      <th></th>\n",
       "      <th></th>\n",
       "    </tr>\n",
       "  </thead>\n",
       "  <tbody>\n",
       "    <tr>\n",
       "      <th>2023-01-30</th>\n",
       "      <td>129.703018</td>\n",
       "      <td>113.202339</td>\n",
       "      <td>46.732342</td>\n",
       "      <td>16.069134</td>\n",
       "      <td>166.543777</td>\n",
       "      <td>96.130051</td>\n",
       "      <td>10.756802</td>\n",
       "      <td>8.415674</td>\n",
       "      <td>83.109291</td>\n",
       "      <td>9.450280</td>\n",
       "      <td>922207</td>\n",
       "      <td>1080203</td>\n",
       "      <td>1318109</td>\n",
       "      <td>1503551</td>\n",
       "      <td>265113</td>\n",
       "      <td>832568</td>\n",
       "      <td>3784922</td>\n",
       "      <td>5398200</td>\n",
       "      <td>1235322</td>\n",
       "      <td>2938565</td>\n",
       "    </tr>\n",
       "    <tr>\n",
       "      <th>2023-01-31</th>\n",
       "      <td>128.141388</td>\n",
       "      <td>112.535980</td>\n",
       "      <td>46.928230</td>\n",
       "      <td>16.005003</td>\n",
       "      <td>167.555466</td>\n",
       "      <td>95.871040</td>\n",
       "      <td>10.796604</td>\n",
       "      <td>8.508443</td>\n",
       "      <td>82.998215</td>\n",
       "      <td>9.362902</td>\n",
       "      <td>982086</td>\n",
       "      <td>1357678</td>\n",
       "      <td>1195913</td>\n",
       "      <td>1947261</td>\n",
       "      <td>472465</td>\n",
       "      <td>850875</td>\n",
       "      <td>5761592</td>\n",
       "      <td>7767232</td>\n",
       "      <td>2218706</td>\n",
       "      <td>2470382</td>\n",
       "    </tr>\n",
       "    <tr>\n",
       "      <th>2023-02-01</th>\n",
       "      <td>127.790459</td>\n",
       "      <td>113.711906</td>\n",
       "      <td>47.292015</td>\n",
       "      <td>15.972937</td>\n",
       "      <td>170.349670</td>\n",
       "      <td>96.870087</td>\n",
       "      <td>10.906063</td>\n",
       "      <td>8.504067</td>\n",
       "      <td>82.100380</td>\n",
       "      <td>9.395194</td>\n",
       "      <td>498535</td>\n",
       "      <td>1102143</td>\n",
       "      <td>1111493</td>\n",
       "      <td>1091097</td>\n",
       "      <td>272322</td>\n",
       "      <td>907425</td>\n",
       "      <td>5894306</td>\n",
       "      <td>4980785</td>\n",
       "      <td>1614583</td>\n",
       "      <td>2025489</td>\n",
       "    </tr>\n",
       "    <tr>\n",
       "      <th>2023-02-02</th>\n",
       "      <td>128.702881</td>\n",
       "      <td>115.397400</td>\n",
       "      <td>47.124111</td>\n",
       "      <td>16.078293</td>\n",
       "      <td>181.478287</td>\n",
       "      <td>97.166107</td>\n",
       "      <td>10.707047</td>\n",
       "      <td>8.443680</td>\n",
       "      <td>80.313980</td>\n",
       "      <td>9.469277</td>\n",
       "      <td>935729</td>\n",
       "      <td>1394176</td>\n",
       "      <td>2013542</td>\n",
       "      <td>1805955</td>\n",
       "      <td>568976</td>\n",
       "      <td>920499</td>\n",
       "      <td>7742563</td>\n",
       "      <td>7100632</td>\n",
       "      <td>2421074</td>\n",
       "      <td>2434350</td>\n",
       "    </tr>\n",
       "    <tr>\n",
       "      <th>2023-02-03</th>\n",
       "      <td>127.492165</td>\n",
       "      <td>114.770248</td>\n",
       "      <td>47.329327</td>\n",
       "      <td>15.995840</td>\n",
       "      <td>182.104553</td>\n",
       "      <td>97.443604</td>\n",
       "      <td>10.859626</td>\n",
       "      <td>8.393794</td>\n",
       "      <td>78.805267</td>\n",
       "      <td>9.402792</td>\n",
       "      <td>1217643</td>\n",
       "      <td>1587465</td>\n",
       "      <td>1649190</td>\n",
       "      <td>1730754</td>\n",
       "      <td>383622</td>\n",
       "      <td>1106022</td>\n",
       "      <td>5942379</td>\n",
       "      <td>7368347</td>\n",
       "      <td>4394526</td>\n",
       "      <td>2855250</td>\n",
       "    </tr>\n",
       "  </tbody>\n",
       "</table>\n",
       "</div>"
      ],
      "text/plain": [
       "Price            Close                                                \\\n",
       "Ticker           AI.PA      AIR.PA      BN.PA      CA.PA      CAP.PA   \n",
       "Date                                                                   \n",
       "2023-01-30  129.703018  113.202339  46.732342  16.069134  166.543777   \n",
       "2023-01-31  128.141388  112.535980  46.928230  16.005003  167.555466   \n",
       "2023-02-01  127.790459  113.711906  47.292015  15.972937  170.349670   \n",
       "2023-02-02  128.702881  115.397400  47.124111  16.078293  181.478287   \n",
       "2023-02-03  127.492165  114.770248  47.329327  15.995840  182.104553   \n",
       "\n",
       "Price                                                             Volume  \\\n",
       "Ticker          DG.PA    ENGI.PA    ORA.PA     SAN.PA    VIV.PA    AI.PA   \n",
       "Date                                                                       \n",
       "2023-01-30  96.130051  10.756802  8.415674  83.109291  9.450280   922207   \n",
       "2023-01-31  95.871040  10.796604  8.508443  82.998215  9.362902   982086   \n",
       "2023-02-01  96.870087  10.906063  8.504067  82.100380  9.395194   498535   \n",
       "2023-02-02  97.166107  10.707047  8.443680  80.313980  9.469277   935729   \n",
       "2023-02-03  97.443604  10.859626  8.393794  78.805267  9.402792  1217643   \n",
       "\n",
       "Price                                                                     \\\n",
       "Ticker       AIR.PA    BN.PA    CA.PA  CAP.PA    DG.PA  ENGI.PA   ORA.PA   \n",
       "Date                                                                       \n",
       "2023-01-30  1080203  1318109  1503551  265113   832568  3784922  5398200   \n",
       "2023-01-31  1357678  1195913  1947261  472465   850875  5761592  7767232   \n",
       "2023-02-01  1102143  1111493  1091097  272322   907425  5894306  4980785   \n",
       "2023-02-02  1394176  2013542  1805955  568976   920499  7742563  7100632   \n",
       "2023-02-03  1587465  1649190  1730754  383622  1106022  5942379  7368347   \n",
       "\n",
       "Price                         \n",
       "Ticker       SAN.PA   VIV.PA  \n",
       "Date                          \n",
       "2023-01-30  1235322  2938565  \n",
       "2023-01-31  2218706  2470382  \n",
       "2023-02-01  1614583  2025489  \n",
       "2023-02-02  2421074  2434350  \n",
       "2023-02-03  4394526  2855250  "
      ]
     },
     "execution_count": 4,
     "metadata": {},
     "output_type": "execute_result"
    }
   ],
   "source": [
    "df.head()"
   ]
  },
  {
   "cell_type": "code",
   "execution_count": 5,
   "metadata": {},
   "outputs": [],
   "source": [
    "df_close = df['Close']\n",
    "df_volume = df['Volume']"
   ]
  },
  {
   "cell_type": "code",
   "execution_count": 6,
   "metadata": {},
   "outputs": [
    {
     "name": "stdout",
     "output_type": "stream",
     "text": [
      "Ticker\n",
      "SAN.PA     0.1\n",
      "BN.PA      0.1\n",
      "AIR.PA     0.1\n",
      "AI.PA      0.1\n",
      "ORA.PA     0.1\n",
      "CAP.PA     0.1\n",
      "VIV.PA     0.1\n",
      "CA.PA      0.1\n",
      "ENGI.PA    0.1\n",
      "DG.PA      0.1\n",
      "Name: Weight, dtype: float64\n"
     ]
    }
   ],
   "source": [
    "# Poids des actions dans le portefeuille\n",
    "weights = np.repeat(0.1, 10)\n",
    "\n",
    "weights = pd.DataFrame({'Ticker': ['SAN.PA', 'BN.PA',  'AIR.PA', 'AI.PA', 'ORA.PA', 'CAP.PA', 'VIV.PA', 'CA.PA', 'ENGI.PA', 'DG.PA'],\n",
    "                        'Weight': weights})\n",
    "weights = weights.set_index('Ticker')['Weight']\n",
    "\n",
    "print(weights)"
   ]
  },
  {
   "cell_type": "code",
   "execution_count": 7,
   "metadata": {},
   "outputs": [
    {
     "data": {
      "text/html": [
       "<div>\n",
       "<style scoped>\n",
       "    .dataframe tbody tr th:only-of-type {\n",
       "        vertical-align: middle;\n",
       "    }\n",
       "\n",
       "    .dataframe tbody tr th {\n",
       "        vertical-align: top;\n",
       "    }\n",
       "\n",
       "    .dataframe thead th {\n",
       "        text-align: right;\n",
       "    }\n",
       "</style>\n",
       "<table border=\"1\" class=\"dataframe\">\n",
       "  <thead>\n",
       "    <tr style=\"text-align: right;\">\n",
       "      <th></th>\n",
       "      <th>AUM</th>\n",
       "    </tr>\n",
       "    <tr>\n",
       "      <th>Date</th>\n",
       "      <th></th>\n",
       "    </tr>\n",
       "  </thead>\n",
       "  <tbody>\n",
       "    <tr>\n",
       "      <th>2023-01-30</th>\n",
       "      <td>68.011271</td>\n",
       "    </tr>\n",
       "    <tr>\n",
       "      <th>2023-01-31</th>\n",
       "      <td>67.870327</td>\n",
       "    </tr>\n",
       "    <tr>\n",
       "      <th>2023-02-01</th>\n",
       "      <td>68.289278</td>\n",
       "    </tr>\n",
       "    <tr>\n",
       "      <th>2023-02-02</th>\n",
       "      <td>69.488106</td>\n",
       "    </tr>\n",
       "    <tr>\n",
       "      <th>2023-02-03</th>\n",
       "      <td>69.259722</td>\n",
       "    </tr>\n",
       "  </tbody>\n",
       "</table>\n",
       "</div>"
      ],
      "text/plain": [
       "                  AUM\n",
       "Date                 \n",
       "2023-01-30  68.011271\n",
       "2023-01-31  67.870327\n",
       "2023-02-01  68.289278\n",
       "2023-02-02  69.488106\n",
       "2023-02-03  69.259722"
      ]
     },
     "execution_count": 7,
     "metadata": {},
     "output_type": "execute_result"
    }
   ],
   "source": [
    "# Détermination de l'AUM\n",
    "aum = df_close@weights\n",
    "portfolio = pd.DataFrame({'AUM': aum})\n",
    "portfolio.head()"
   ]
  },
  {
   "cell_type": "code",
   "execution_count": 8,
   "metadata": {},
   "outputs": [],
   "source": [
    "# Performance du portefeuille\n",
    "portfolio['perf'] = portfolio['AUM'].pct_change()\n",
    "portfolio.dropna(inplace=True)\n"
   ]
  },
  {
   "cell_type": "code",
   "execution_count": 9,
   "metadata": {},
   "outputs": [
    {
     "data": {
      "text/html": [
       "<div>\n",
       "<style scoped>\n",
       "    .dataframe tbody tr th:only-of-type {\n",
       "        vertical-align: middle;\n",
       "    }\n",
       "\n",
       "    .dataframe tbody tr th {\n",
       "        vertical-align: top;\n",
       "    }\n",
       "\n",
       "    .dataframe thead th {\n",
       "        text-align: right;\n",
       "    }\n",
       "</style>\n",
       "<table border=\"1\" class=\"dataframe\">\n",
       "  <thead>\n",
       "    <tr style=\"text-align: right;\">\n",
       "      <th></th>\n",
       "      <th>AUM</th>\n",
       "      <th>perf</th>\n",
       "    </tr>\n",
       "    <tr>\n",
       "      <th>Date</th>\n",
       "      <th></th>\n",
       "      <th></th>\n",
       "    </tr>\n",
       "  </thead>\n",
       "  <tbody>\n",
       "    <tr>\n",
       "      <th>2023-01-31</th>\n",
       "      <td>67.870327</td>\n",
       "      <td>-0.002072</td>\n",
       "    </tr>\n",
       "    <tr>\n",
       "      <th>2023-02-01</th>\n",
       "      <td>68.289278</td>\n",
       "      <td>0.006173</td>\n",
       "    </tr>\n",
       "    <tr>\n",
       "      <th>2023-02-02</th>\n",
       "      <td>69.488106</td>\n",
       "      <td>0.017555</td>\n",
       "    </tr>\n",
       "    <tr>\n",
       "      <th>2023-02-03</th>\n",
       "      <td>69.259722</td>\n",
       "      <td>-0.003287</td>\n",
       "    </tr>\n",
       "    <tr>\n",
       "      <th>2023-02-06</th>\n",
       "      <td>68.508216</td>\n",
       "      <td>-0.010851</td>\n",
       "    </tr>\n",
       "  </tbody>\n",
       "</table>\n",
       "</div>"
      ],
      "text/plain": [
       "                  AUM      perf\n",
       "Date                           \n",
       "2023-01-31  67.870327 -0.002072\n",
       "2023-02-01  68.289278  0.006173\n",
       "2023-02-02  69.488106  0.017555\n",
       "2023-02-03  69.259722 -0.003287\n",
       "2023-02-06  68.508216 -0.010851"
      ]
     },
     "execution_count": 9,
     "metadata": {},
     "output_type": "execute_result"
    }
   ],
   "source": [
    "portfolio.head()"
   ]
  },
  {
   "cell_type": "markdown",
   "metadata": {},
   "source": [
    "# Volatiliy"
   ]
  },
  {
   "cell_type": "code",
   "execution_count": 10,
   "metadata": {},
   "outputs": [
    {
     "data": {
      "text/plain": [
       "AUM     74.059264\n",
       "perf     0.127592\n",
       "dtype: float64"
      ]
     },
     "execution_count": 10,
     "metadata": {},
     "output_type": "execute_result"
    }
   ],
   "source": [
    "# Volatilité annualisé du portefeuille\n",
    "std_dev = portfolio.std()*np.sqrt(252)\n",
    "std_dev"
   ]
  },
  {
   "cell_type": "code",
   "execution_count": 11,
   "metadata": {},
   "outputs": [],
   "source": [
    "# Performance du benchmark\n",
    "cac40_df = cac40['Close']\n",
    "cac40_df ['perf'] = cac40_df.pct_change()\n",
    "cac40_df.dropna(inplace=True)\n"
   ]
  },
  {
   "cell_type": "code",
   "execution_count": 12,
   "metadata": {},
   "outputs": [
    {
     "data": {
      "text/plain": [
       "Ticker\n",
       "^FCHI    4951.982443\n",
       "perf        0.133750\n",
       "dtype: float64"
      ]
     },
     "execution_count": 12,
     "metadata": {},
     "output_type": "execute_result"
    }
   ],
   "source": [
    "# Volatilité du benchmark\n",
    "cac40_df.std()*np.sqrt(252)"
   ]
  },
  {
   "cell_type": "markdown",
   "metadata": {},
   "source": [
    "# Tracking error"
   ]
  },
  {
   "cell_type": "code",
   "execution_count": 13,
   "metadata": {},
   "outputs": [
    {
     "data": {
      "text/plain": [
       "0.07699809526025904"
      ]
     },
     "execution_count": 13,
     "metadata": {},
     "output_type": "execute_result"
    }
   ],
   "source": [
    "# Tracking error\n",
    "portfolio['benchmark'] = cac40_df['perf']\n",
    "portfolio['tracking_error'] = portfolio['perf'] - portfolio['benchmark']\n",
    "TError = portfolio['tracking_error'].std()*np.sqrt(252) # Annualisation\n",
    "\n",
    "TError"
   ]
  },
  {
   "cell_type": "markdown",
   "metadata": {},
   "source": [
    "# Value at risk"
   ]
  },
  {
   "cell_type": "markdown",
   "metadata": {},
   "source": [
    "## VaR historique"
   ]
  },
  {
   "cell_type": "code",
   "execution_count": 38,
   "metadata": {},
   "outputs": [
    {
     "name": "stdout",
     "output_type": "stream",
     "text": [
      "AUM               305.467473\n",
      "perf               -0.102666\n",
      "benchmark          -0.095200\n",
      "tracking_error     -0.056828\n",
      "Name: 0.010000000000000009, dtype: float64\n"
     ]
    }
   ],
   "source": [
    "VaR = portfolio.quantile(1-0.99)*np.sqrt(20) # 1-day VaR skaled to 20-day VaR\n",
    "print(VaR)"
   ]
  },
  {
   "cell_type": "markdown",
   "metadata": {},
   "source": [
    "## VaR paramétrique"
   ]
  },
  {
   "cell_type": "code",
   "execution_count": 36,
   "metadata": {},
   "outputs": [
    {
     "name": "stdout",
     "output_type": "stream",
     "text": [
      "AUM               296.048988\n",
      "perf               -0.081962\n",
      "benchmark          -0.086554\n",
      "tracking_error     -0.049907\n",
      "dtype: float64\n"
     ]
    }
   ],
   "source": [
    "VaR = (portfolio.mean() + norm.ppf(1-0.99)*portfolio.std())*np.sqrt(20)\n",
    "print(VaR)"
   ]
  },
  {
   "cell_type": "markdown",
   "metadata": {},
   "source": [
    "# Stress test"
   ]
  },
  {
   "cell_type": "code",
   "execution_count": 64,
   "metadata": {},
   "outputs": [
    {
     "name": "stderr",
     "output_type": "stream",
     "text": [
      "[*********************100%***********************]  10 of 10 completed\n",
      "[*********************100%***********************]  1 of 1 completed\n"
     ]
    }
   ],
   "source": [
    "# Données des actions en période covid\n",
    "stress_date_1 = \"2020-02-19\"\n",
    "stress_date_2 = \"2020-03-19\"\n",
    "\n",
    "tickers = ['SAN.PA', 'BN.PA',  'AIR.PA', 'AI.PA', 'ORA.PA', 'CAP.PA', 'VIV.PA', 'CA.PA', 'ENGI.PA', 'DG.PA']\n",
    "df_stress = yf.download(tickers, start = stress_date_1, end=stress_date_2)['Close']\n",
    "cac40_stress = yf.download('^FCHI', start = stress_date_1, end=stress_date_2)['Close']"
   ]
  },
  {
   "cell_type": "code",
   "execution_count": 65,
   "metadata": {},
   "outputs": [],
   "source": [
    "aum_stress = df_stress@weights\n",
    "portfolio_stress = pd.DataFrame({'AUM': aum_stress})\n"
   ]
  },
  {
   "cell_type": "code",
   "execution_count": 66,
   "metadata": {},
   "outputs": [
    {
     "data": {
      "text/plain": [
       "AUM   -0.394026\n",
       "dtype: float64"
      ]
     },
     "execution_count": 66,
     "metadata": {},
     "output_type": "execute_result"
    }
   ],
   "source": [
    "# Rendement du portefeuille en période de covid\n",
    "portfolio_stress.iloc[-1,] /portfolio_stress.iloc[0,]  - 1"
   ]
  },
  {
   "cell_type": "code",
   "execution_count": 67,
   "metadata": {},
   "outputs": [
    {
     "data": {
      "text/plain": [
       "Ticker\n",
       "^FCHI   -0.385585\n",
       "dtype: float64"
      ]
     },
     "execution_count": 67,
     "metadata": {},
     "output_type": "execute_result"
    }
   ],
   "source": [
    "# Rendemnt du benchmark enn période covid\n",
    "cac40_stress.iloc[-1,] / cac40_stress.iloc[0,] -1"
   ]
  }
 ],
 "metadata": {
  "kernelspec": {
   "display_name": "base",
   "language": "python",
   "name": "python3"
  },
  "language_info": {
   "codemirror_mode": {
    "name": "ipython",
    "version": 3
   },
   "file_extension": ".py",
   "mimetype": "text/x-python",
   "name": "python",
   "nbconvert_exporter": "python",
   "pygments_lexer": "ipython3",
   "version": "3.9.13"
  }
 },
 "nbformat": 4,
 "nbformat_minor": 2
}
